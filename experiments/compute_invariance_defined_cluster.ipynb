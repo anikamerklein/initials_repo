{
 "cells": [
  {
   "cell_type": "code",
   "execution_count": 5,
   "metadata": {},
   "outputs": [],
   "source": [
    "import pickle\n",
    "import numpy as np\n",
    "import scipy.spatial\n",
    "from sklearn.preprocessing import StandardScaler\n",
    "import torch\n",
    "import os\n",
    "import matplotlib.pyplot as plt\n",
    "import imp\n",
    "\n",
    "vis_data_by_label = imp.load_source('vis_data_by_label', '../visualisation/data_vis.py')\n",
    "\n",
    "\n"
   ]
  },
  {
   "cell_type": "code",
   "execution_count": 7,
   "metadata": {},
   "outputs": [],
   "source": [
    "ims = pickle.load(open('../data/images_list.pickle', 'rb'))\n",
    "labels = pickle.load(open('../data/lettersdf.pickle', 'rb'))\n",
    "\n",
    "layers = [0, -7, -14]\n",
    "all_data = {'gram' : {k:None for k in layers},\n",
    "            'raw' : {k:None for k in layers}}"
   ]
  },
  {
   "cell_type": "code",
   "execution_count": 9,
   "metadata": {},
   "outputs": [
    {
     "ename": "FileNotFoundError",
     "evalue": "[Errno 2] No such file or directory: './Reps/VGG16_Initials_Gram0default.pickle'",
     "output_type": "error",
     "traceback": [
      "\u001b[0;31m---------------------------------------------------------------------------\u001b[0m",
      "\u001b[0;31mFileNotFoundError\u001b[0m                         Traceback (most recent call last)",
      "\u001b[0;32m/var/folders/s7/g4m4_9855cxb0jsk5ct6k7980000gp/T/ipykernel_80330/3711843446.py\u001b[0m in \u001b[0;36m<module>\u001b[0;34m\u001b[0m\n\u001b[1;32m      8\u001b[0m             \u001b[0mfile\u001b[0m \u001b[0;34m=\u001b[0m \u001b[0;34m'./Reps/VGG16_Initials_{}untrained_binary.pickle'\u001b[0m\u001b[0;34m.\u001b[0m\u001b[0mformat\u001b[0m\u001b[0;34m(\u001b[0m\u001b[0ml\u001b[0m\u001b[0;34m)\u001b[0m\u001b[0;34m\u001b[0m\u001b[0;34m\u001b[0m\u001b[0m\n\u001b[1;32m      9\u001b[0m \u001b[0;34m\u001b[0m\u001b[0m\n\u001b[0;32m---> 10\u001b[0;31m         \u001b[0mdata\u001b[0m \u001b[0;34m=\u001b[0m \u001b[0mpickle\u001b[0m\u001b[0;34m.\u001b[0m\u001b[0mload\u001b[0m\u001b[0;34m(\u001b[0m\u001b[0mopen\u001b[0m\u001b[0;34m(\u001b[0m\u001b[0mfile\u001b[0m\u001b[0;34m,\u001b[0m \u001b[0;34m'rb'\u001b[0m\u001b[0;34m)\u001b[0m\u001b[0;34m)\u001b[0m\u001b[0;34m\u001b[0m\u001b[0;34m\u001b[0m\u001b[0m\n\u001b[0m\u001b[1;32m     11\u001b[0m         \u001b[0;32mif\u001b[0m \u001b[0mtype\u001b[0m\u001b[0;34m(\u001b[0m\u001b[0mdata\u001b[0m\u001b[0;34m)\u001b[0m\u001b[0;34m==\u001b[0m\u001b[0mlist\u001b[0m\u001b[0;34m:\u001b[0m\u001b[0;34m\u001b[0m\u001b[0;34m\u001b[0m\u001b[0m\n\u001b[1;32m     12\u001b[0m             \u001b[0mdata\u001b[0m \u001b[0;34m=\u001b[0m \u001b[0mtorch\u001b[0m\u001b[0;34m.\u001b[0m\u001b[0mstack\u001b[0m\u001b[0;34m(\u001b[0m\u001b[0;34m[\u001b[0m\u001b[0mi\u001b[0m\u001b[0;34m.\u001b[0m\u001b[0mflatten\u001b[0m\u001b[0;34m(\u001b[0m\u001b[0;34m)\u001b[0m \u001b[0;32mfor\u001b[0m \u001b[0mi\u001b[0m \u001b[0;32min\u001b[0m \u001b[0mdata\u001b[0m\u001b[0;34m]\u001b[0m\u001b[0;34m)\u001b[0m\u001b[0;34m\u001b[0m\u001b[0;34m\u001b[0m\u001b[0m\n",
      "\u001b[0;31mFileNotFoundError\u001b[0m: [Errno 2] No such file or directory: './Reps/VGG16_Initials_Gram0default.pickle'"
     ]
    }
   ],
   "source": [
    "for case in ['gram', 'raw']:\n",
    "    for l in layers:\n",
    "\n",
    "        \n",
    "        if case == 'gram':\n",
    "            file = './Reps/VGG16_Initials_Gram{}default.pickle'.format(l)\n",
    "        else:\n",
    "            file = './Reps/VGG16_Initials_{}untrained_binary.pickle'.format(l)\n",
    "\n",
    "        data = pickle.load(open(file, 'rb'))\n",
    "        if type(data)==list:\n",
    "            data = torch.stack([i.flatten() for i in data])\n",
    "        print(case, l, data.shape)\n",
    "        \n",
    "        all_data[case][l] = data.numpy()"
   ]
  },
  {
   "cell_type": "code",
   "execution_count": 1,
   "metadata": {},
   "outputs": [
    {
     "ename": "NameError",
     "evalue": "name 'pickle' is not defined",
     "output_type": "error",
     "traceback": [
      "\u001b[0;31m---------------------------------------------------------------------------\u001b[0m",
      "\u001b[0;31mNameError\u001b[0m                                 Traceback (most recent call last)",
      "\u001b[0;32m/var/folders/s7/g4m4_9855cxb0jsk5ct6k7980000gp/T/ipykernel_80575/2117201025.py\u001b[0m in \u001b[0;36m<module>\u001b[0;34m\u001b[0m\n\u001b[1;32m      1\u001b[0m \u001b[0;31m# get list of all the files in a cluster\u001b[0m\u001b[0;34m\u001b[0m\u001b[0;34m\u001b[0m\u001b[0m\n\u001b[1;32m      2\u001b[0m \u001b[0;34m\u001b[0m\u001b[0m\n\u001b[0;32m----> 3\u001b[0;31m \u001b[0mcluster\u001b[0m \u001b[0;34m=\u001b[0m \u001b[0mpickle\u001b[0m\u001b[0;34m.\u001b[0m\u001b[0mload\u001b[0m\u001b[0;34m(\u001b[0m\u001b[0mopen\u001b[0m\u001b[0;34m(\u001b[0m\u001b[0;34m'../data/mauresque.pickle'\u001b[0m\u001b[0;34m,\u001b[0m \u001b[0;34m'rb'\u001b[0m\u001b[0;34m)\u001b[0m\u001b[0;34m)\u001b[0m\u001b[0;34m\u001b[0m\u001b[0;34m\u001b[0m\u001b[0m\n\u001b[0m",
      "\u001b[0;31mNameError\u001b[0m: name 'pickle' is not defined"
     ]
    }
   ],
   "source": [
    "# get list of all the files in a cluster\n",
    "\n",
    "cluster = pickle.load(open('../data/mauresque.pickle', 'rb'))\n"
   ]
  },
  {
   "cell_type": "code",
   "execution_count": 6,
   "metadata": {},
   "outputs": [
    {
     "data": {
      "text/plain": [
       "0       None\n",
       "1       None\n",
       "2       None\n",
       "3       None\n",
       "4       None\n",
       "        ... \n",
       "5858    None\n",
       "5859    None\n",
       "5860    None\n",
       "5861    None\n",
       "5862    None\n",
       "Name: cluster_labels, Length: 5863, dtype: object"
      ]
     },
     "execution_count": 6,
     "metadata": {},
     "output_type": "execute_result"
    }
   ],
   "source": [
    "c_labels = ([None] * len(ims)).append([None])\n",
    "labels[\"cluster_labels\"] = c_labels\n",
    "\n",
    "\n",
    "for row in labels.iterrows():\n",
    "    #print(row[0])\n",
    "    if row[1][\"initial\"] in cluster:\n",
    "        labels.loc[row[0], \"cluster_labels\"] = \"cluster_arabesque\"\n",
    "\n",
    "labels[labels[\"cluster_labels\"] == \"cluster_arabesque\"]\n",
    "labels['cluster_labels']\n"
   ]
  },
  {
   "cell_type": "code",
   "execution_count": 7,
   "metadata": {},
   "outputs": [
    {
     "data": {
      "text/plain": [
       "5862"
      ]
     },
     "execution_count": 7,
     "metadata": {},
     "output_type": "execute_result"
    }
   ],
   "source": [
    "c_labels = [list(labels[labels.initial == im].cluster_labels)[0] for im in ims]\n",
    "\n",
    "c_labels = np.array(c_labels)\n",
    "\n",
    "len(c_labels)"
   ]
  },
  {
   "cell_type": "code",
   "execution_count": 8,
   "metadata": {},
   "outputs": [
    {
     "name": "stdout",
     "output_type": "stream",
     "text": [
      "euclidean\n",
      "(5862, 262144)\n",
      "cluster_arabesque 180\n",
      "(5862, 262144)\n",
      "cluster_arabesque 180\n",
      "(5862, 262144)\n",
      "cluster_arabesque 180\n",
      "(5862, 25088)\n",
      "cluster_arabesque 180\n",
      "(5862, 100352)\n",
      "cluster_arabesque 180\n",
      "(5862, 200704)\n",
      "cluster_arabesque 180\n"
     ]
    }
   ],
   "source": [
    "# compute invariance score of cluster \n",
    "\n",
    "idxs = np.array(list(range(5862)))\n",
    "np.random.shuffle(idxs)\n",
    "rand_idxs = idxs[:2000]\n",
    "standardize = 'std'\n",
    "\n",
    "for metric in ['euclidean', 'cosine']:\n",
    "    print(metric)\n",
    "    dist_data = {}\n",
    "    for case in ['gram', 'raw']:\n",
    "\n",
    "        dist_data[case] = {l: {} for l in layers}\n",
    "\n",
    "\n",
    "        for l in layers:\n",
    "            data = all_data[case][l]\n",
    "            print(data.shape)\n",
    "          \n",
    "            if standardize == 'std':\n",
    "                scaler = StandardScaler()\n",
    "                scaler.fit(data)\n",
    "                data = scaler.transform(data)\n",
    "            \n",
    "            dists_all = scipy.spatial.distance.pdist(data[rand_idxs,:], metric = metric) \n",
    "                \n",
    "            for cluster_label in list(set(c_labels)):\n",
    "\n",
    "                if cluster_label != None:\n",
    "\n",
    "                    print(cluster_label, len(np.where(c_labels == 'cluster_arabesque')[0]))\n",
    "                                \n",
    "                    data_letter = data[(np.where(c_labels == 'cluster_arabesque')[0])]                        \n",
    "                    dists_letter = scipy.spatial.distance.pdist(data_letter, metric = metric)\n",
    "                    dist_data[case][l] = (dists_letter.mean(), dists_all.mean(), len(np.where(c_labels == 'cluster_arabesque')[0]))\n",
    "              \n",
    "\n",
    "    pickle.dump(dist_data, open('data_cluster_default{}_{}_mauresque.p'.format(metric, standardize), 'wb'))"
   ]
  }
 ],
 "metadata": {
  "kernelspec": {
   "display_name": "Python 3.9.7 ('base')",
   "language": "python",
   "name": "python3"
  },
  "language_info": {
   "codemirror_mode": {
    "name": "ipython",
    "version": 3
   },
   "file_extension": ".py",
   "mimetype": "text/x-python",
   "name": "python",
   "nbconvert_exporter": "python",
   "pygments_lexer": "ipython3",
   "version": "3.9.7"
  },
  "orig_nbformat": 4,
  "vscode": {
   "interpreter": {
    "hash": "c393802f60a7a78aeca09669bab19f5fda1dea818abf5b8b1ad1df6cd7729586"
   }
  }
 },
 "nbformat": 4,
 "nbformat_minor": 2
}
